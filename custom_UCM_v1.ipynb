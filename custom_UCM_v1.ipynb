{
 "cells": [
  {
   "cell_type": "code",
   "execution_count": 88,
   "id": "af09c664-716b-439f-bdbd-79af481fb784",
   "metadata": {},
   "outputs": [
    {
     "data": {
      "image/png": "[encoded data removed]",
      "text/plain": [
       "<Figure size 432x288 with 1 Axes>"
      ]
     },
     "metadata": {
      "needs_background": "light"
     },
     "output_type": "display_data"
    }
   ],
   "source": [
    "import numpy as np\n",
    "import matplotlib.pyplot as plt \n",
    "\n",
    "# initial conditions\n",
    "\n",
    "np.random.seed(1)\n",
    "init_users = 10**4\n",
    "user = np.zeros(init_users)\n",
    "\n",
    "opinion_sigma = 0.20\n",
    "\n",
    "# creating the wanted opinion distribution\n",
    "\n",
    "for i in range(0, init_users):\n",
    "    #opinion = np.random.normal(0, opinion_sigma)\n",
    "    opinion = np.random.uniform(low=-1.0, high=1.0)\n",
    "    user[i] = opinion \n",
    "\n",
    "thres = 0.5 # threshold for opinion difference for user to reinforce or reject opinion\n",
    "mu_1 = 0.1 # opinion reinforcement paramter\n",
    "mu_2 = 0.01 # opinion rejection paramter\n",
    "border = 2\n",
    "reset = 1\n",
    "\n",
    "total = 0 # counting for total iterations\n",
    "\n",
    "# plot of initial opinion distribution\n",
    "\n",
    "plt.figure()\n",
    "plt.hist(user, bins=50, density='true')\n",
    "plt.xlim([-1,1])\n",
    "plt.show()"
   ]
  },
  {
   "cell_type": "code",
   "execution_count": 100,
   "id": "e6a7c507-a250-4011-9e8b-d7ee5a991ef4",
   "metadata": {},
   "outputs": [
    {
     "data": {
      "image/png": "[encoded data removed]",
      "text/plain": [
       "<Figure size 432x288 with 1 Axes>"
      ]
     },
     "metadata": {
      "needs_background": "light"
     },
     "output_type": "display_data"
    },
    {
     "name": "stdout",
     "output_type": "stream",
     "text": [
      "Total iteration steps: 1e+06\n"
     ]
    }
   ],
   "source": [
    "# opinion dynamics model: each user can interact with each other (you can choose if both users changes opinion or only one)\n",
    "\n",
    "simulation_time = 10**5\n",
    "\n",
    "for i in range(0, simulation_time):\n",
    "    a = np.random.randint(0,init_users)\n",
    "    b = np.random.randint(0,init_users)\n",
    "    total += 1\n",
    "    \n",
    "    if (a == b) or (user[a] == user[b]):\n",
    "        continue\n",
    "    \n",
    "    op_diff = abs(user[a] - user[b])\n",
    "    a_old = user[a]\n",
    "    \n",
    "    if op_diff < thres:\n",
    "        user[a] += mu_1 * (user[b] - user[a])\n",
    "        #user[b] += mu_1 * (a_old - user[b])\n",
    "    else: \n",
    "        user[a] -= mu_2 * (user[b] - user[a])\n",
    "        #user[b] -= mu_2 * (a_old - user[b])\n",
    "        \n",
    "    if user[a] > border:\n",
    "        user[a] = reset\n",
    "                \n",
    "    if user[a] < -border:\n",
    "        user[a] = -reset  \n",
    "        \n",
    "    if user[b] > border:\n",
    "        user[b] = reset\n",
    "                \n",
    "    if user[b] < -border:\n",
    "        user[b] = -reset     \n",
    "        \n",
    "    \n",
    "plt.figure()\n",
    "plt.hist(user, bins=50, density='true')\n",
    "#plt.xlim([-1,1])\n",
    "plt.show()  \n",
    "print(\"Total iteration steps: %1.g\" %total)"
   ]
  }
 ],
 "metadata": {
  "kernelspec": {
   "display_name": "Python 3 (ipykernel)",
   "language": "python",
   "name": "python3"
  },
  "language_info": {
   "codemirror_mode": {
    "name": "ipython",
    "version": 3
   },
   "file_extension": ".py",
   "mimetype": "text/x-python",
   "name": "python",
   "nbconvert_exporter": "python",
   "pygments_lexer": "ipython3",
   "version": "3.9.10"
  }
 },
 "nbformat": 4,
 "nbformat_minor": 5
}
